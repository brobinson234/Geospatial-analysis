{
 "cells": [
  {
   "cell_type": "markdown",
   "metadata": {},
   "source": [
    "This data comes from ratings of bobatea shops. The data has already been cleaned (duplicates dropped, rows with empty information that would affect the results dropped which was missing name or address since rating and lon-lat are necessary, any impossible results such as a rating over 5, etc.) \n",
    "\n",
    "I wanted to try writing an analysis that included geospatial data. \n",
    "\n",
    "The project is based on a marketing analysis by the boba-guys-san-francisco shop. It is designed to find all of the boba shops within 5 miles of their location, list them in descending order of their yelp review, and then proivde full information so that the most relevant shops could be studies to see how they compete and what could be done to counter the competition. "
   ]
  },
  {
   "cell_type": "code",
   "execution_count": 86,
   "metadata": {},
   "outputs": [],
   "source": [
    "import pandas as pd\n",
    "import matplotlib.pyplot as plt\n",
    "from geopy.distance import geodesic\n",
    "import seaborn as sns\n"
   ]
  },
  {
   "cell_type": "code",
   "execution_count": 76,
   "metadata": {},
   "outputs": [],
   "source": [
    "boba_data = pd.read_csv(\"boba_shops_clean.csv\")"
   ]
  },
  {
   "cell_type": "code",
   "execution_count": 77,
   "metadata": {},
   "outputs": [
    {
     "name": "stdout",
     "output_type": "stream",
     "text": [
      "    id                             name  rating                  address  \\\n",
      "0  0.0           99-tea-house-fremont-2     4.5        3623 Thornton Ave   \n",
      "1  1.0                one-tea-fremont-2     4.5  46809 Warm Springs Blvd   \n",
      "2  2.0             royaltea-usa-fremont     4.0       38509 Fremont Blvd   \n",
      "3  3.0  teco-tea-and-coffee-bar-fremont     4.5   39030 Paseo Padre Pkwy   \n",
      "4  4.0                  t-lab-fremont-3     4.0       34133 Fremont Blvd   \n",
      "\n",
      "            city   latitude   longitude  corrected longitude  \n",
      "0        Fremont  37.562950  122.010040          -122.010040  \n",
      "1        Fremont  37.489067  121.929414          -121.929414  \n",
      "2        Fremont  37.551315  121.993850          -121.993850  \n",
      "3        Fremont  37.553694  121.981043          -121.981043  \n",
      "4        Fremont  37.576149  122.043705          -122.043705  \n"
     ]
    }
   ],
   "source": [
    "print(boba_data.head())"
   ]
  },
  {
   "cell_type": "code",
   "execution_count": 78,
   "metadata": {},
   "outputs": [
    {
     "name": "stdout",
     "output_type": "stream",
     "text": [
      "0      37.562950\n",
      "1      37.489067\n",
      "2      37.551315\n",
      "3      37.553694\n",
      "4      37.576149\n",
      "         ...    \n",
      "593    37.673550\n",
      "594    37.700116\n",
      "595          NaN\n",
      "596          NaN\n",
      "597          NaN\n",
      "Name: latitude, Length: 598, dtype: float64\n",
      "0      37.562950\n",
      "1      37.489067\n",
      "2      37.551315\n",
      "3      37.553694\n",
      "4      37.576149\n",
      "         ...    \n",
      "590    37.631869\n",
      "591    37.679500\n",
      "592    37.651128\n",
      "593    37.673550\n",
      "594    37.700116\n",
      "Name: latitude, Length: 595, dtype: float64\n",
      "595\n"
     ]
    }
   ],
   "source": [
    "lat_data = boba_data.latitude\n",
    "print(lat_data)\n",
    "lat_data_clean = lat_data[:595]\n",
    "print(lat_data_clean)\n",
    "print(len(lat_data_clean))"
   ]
  },
  {
   "cell_type": "code",
   "execution_count": 79,
   "metadata": {},
   "outputs": [
    {
     "name": "stdout",
     "output_type": "stream",
     "text": [
      "0     -122.010040\n",
      "1     -121.929414\n",
      "2     -121.993850\n",
      "3     -121.981043\n",
      "4     -122.043705\n",
      "          ...    \n",
      "593   -122.081140\n",
      "594   -122.126858\n",
      "595           NaN\n",
      "596           NaN\n",
      "597           NaN\n",
      "Name: corrected longitude, Length: 598, dtype: float64\n",
      "0      37.562950\n",
      "1      37.489067\n",
      "2      37.551315\n",
      "3      37.553694\n",
      "4      37.576149\n",
      "         ...    \n",
      "590    37.631869\n",
      "591    37.679500\n",
      "592    37.651128\n",
      "593    37.673550\n",
      "594    37.700116\n",
      "Name: latitude, Length: 595, dtype: float64\n",
      "595\n"
     ]
    }
   ],
   "source": [
    "lon_data = boba_data[\"corrected longitude\"]\n",
    "print(lon_data)\n",
    "lon_data_clean = lon_data[:595]\n",
    "print(lat_data_clean)\n",
    "print(len(lon_data_clean))"
   ]
  },
  {
   "cell_type": "code",
   "execution_count": 80,
   "metadata": {},
   "outputs": [
    {
     "name": "stdout",
     "output_type": "stream",
     "text": [
      "0                  99-tea-house-fremont-2\n",
      "1                       one-tea-fremont-2\n",
      "2                    royaltea-usa-fremont\n",
      "3         teco-tea-and-coffee-bar-fremont\n",
      "4                         t-lab-fremont-3\n",
      "                      ...                \n",
      "593                 yogurt-hill-hayward-4\n",
      "594    alohana-hawaiian-grill-san-leandro\n",
      "595                                   NaN\n",
      "596                                   NaN\n",
      "597        Ratings over 5 (max allowable)\n",
      "Name: name, Length: 598, dtype: object\n",
      "0                  99-tea-house-fremont-2\n",
      "1                       one-tea-fremont-2\n",
      "2                    royaltea-usa-fremont\n",
      "3         teco-tea-and-coffee-bar-fremont\n",
      "4                         t-lab-fremont-3\n",
      "                      ...                \n",
      "590                         munch-hayward\n",
      "591     foodnet-supermarket-san-leandro-2\n",
      "592                       yo-bowl-hayward\n",
      "593                 yogurt-hill-hayward-4\n",
      "594    alohana-hawaiian-grill-san-leandro\n",
      "Name: name, Length: 595, dtype: object\n",
      "595\n"
     ]
    }
   ],
   "source": [
    "shops = boba_data.name\n",
    "print(shops)\n",
    "shops_clean = shops[:595]\n",
    "print(shops_clean)\n",
    "print(len(shops_clean))"
   ]
  },
  {
   "cell_type": "markdown",
   "metadata": {},
   "source": [
    "Now that I have the data cleaned and lists I will write a function that will iterate through the list of boba tea shops and identify any that are within 5 miles of the base shop. For the purposes of this exercise, that will be shop #50, boba-guys-san-franscisco \n",
    "To calculate distance from lat-lon, I could use the Halversine formula:\t\n",
    " a = sin²(Δφ/2) + cos φ1 ⋅ cos φ2 ⋅ sin²(Δλ/2);\n",
    " c = 2 ⋅ atan2( √a, √(1−a) )\n",
    " distance = R ⋅ c\n",
    "where\tφ is latitude, λ is longitude, R is earth’s radius (mean radius = 6,371km);\n",
    "note that angles need to be in radians to pass to trig functions!\n",
    "JavaScript:\t\n",
    "const R = 6371e3; // metres\n",
    "const φ1 = lat1 * Math.PI/180; // φ, λ in radians\n",
    "const φ2 = lat2 * Math.PI/180;\n",
    "const Δφ = (lat2-lat1) * Math.PI/180;\n",
    "const Δλ = (lon2-lon1) * Math.PI/180;\n",
    "\n",
    "const a = Math.sin(Δφ/2) * Math.sin(Δφ/2) +\n",
    "          Math.cos(φ1) * Math.cos(φ2) *\n",
    "          Math.sin(Δλ/2) * Math.sin(Δλ/2);\n",
    "const c = 2 * Math.atan2(Math.sqrt(a), Math.sqrt(1-a));\n",
    "const d = R * c; // in metres\n",
    "and then convert d to miles...\n",
    "\n",
    "Or I could use the python geopy module which I imported in the first block of code."
   ]
  },
  {
   "cell_type": "code",
   "execution_count": 81,
   "metadata": {},
   "outputs": [
    {
     "name": "stdout",
     "output_type": "stream",
     "text": [
      "26.819427363761253\n",
      "(37.56295, -122.01003999999999)\n",
      "595\n",
      "range(0, 595)\n",
      "[0, 1, 2, 3, 4, 5, 6, 7, 8, 9, 10, 11, 12, 13, 14, 15, 16, 17, 18, 19]\n"
     ]
    }
   ],
   "source": [
    "#These lines are me testing out different parts of the code to make sure everything does what I want it to.\n",
    "new_lat = lat_data_clean[0]\n",
    "new_lon = lon_data_clean[0]\n",
    "coordinate_start = (start_lat, start_lon)\n",
    "coordiante_end = (new_lat, new_lon)\n",
    "distance = geodesic(coordinate_start, coordiante_end).miles\n",
    "print(distance)\n",
    "print(coordiante_end)\n",
    "\n",
    "print(len(shops_clean))\n",
    "print(range(len(shops_clean)))\n",
    "\n",
    "test = []\n",
    "for i in range(20):\n",
    "    test.append(i)\n",
    "    \n",
    "print(test)"
   ]
  },
  {
   "cell_type": "code",
   "execution_count": 82,
   "metadata": {},
   "outputs": [],
   "source": [
    "#This will now create a set of coordiantes by iterating over the list of coordinates and using geopy's geodesic function\n",
    "#to determine distance between the origin shop and each shop with a sufficiently high rating.\n",
    "shops_to_visit = []\n",
    "for i in range(len(shops_clean)):\n",
    "    start_lat = 37.7899434\n",
    "    start_lon = -122.4073063\n",
    "    new_lat = lat_data_clean[i]\n",
    "    new_lon = lon_data_clean[i]\n",
    "    coordinate_start = (start_lat, start_lon)\n",
    "    coordiante_end = (new_lat, new_lon)\n",
    "    distance = geodesic(coordinate_start, coordiante_end).miles\n",
    "    if distance < 5:\n",
    "        shops_to_visit.append(shops_clean[i])\n",
    "\n",
    "    \n",
    "\n"
   ]
  },
  {
   "cell_type": "code",
   "execution_count": 83,
   "metadata": {},
   "outputs": [
    {
     "name": "stdout",
     "output_type": "stream",
     "text": [
      "['boba-guys-san-francisco-6', 'boba-guys-san-francisco-4', 'wonderful-dessert-and-cafe-san-francisco-2', 'little-sweet-san-francisco-10', 'teaspoon-san-francisco', 'boba-guys-san-francisco-10', 'i-tea-san-francisco-3', 'boba-guys-san-francisco-7', 'plentea-san-francisco-san-francisco', 'steap-tea-bar-san-francisco-3', 'omg-tea-san-francisco', 'asha-tea-house-san-francisco', 'boba-guys-san-francisco-15', 'steep-san-francisco-2', 'mr-t-cafe-san-francisco', 'tpumps-san-francisco', 'wondertea-san-francisco-4', 'the-boba-shop-san-francisco-4', 'steep-creamery-and-tea-san-francisco', 'bubblecup-san-francisco-2', 'sweet-a-little-san-francisco-12', 'tea-hut-san-francisco-2', 'i-tea-san-francisco-2', 'tancca-san-francisco-3', 'sharetea-san-francisco-3', 'mi-tea-san-francisco', 'bb-tea-station-san-francisco-3', 'keep-it-san-francisco-6', 'mr-and-mrs-tea-house-san-francisco', 'e-tea-san-francisco', 'gosu-san-francisco', 'homeplate-boba-san-francisco', 'cuppa-san-francisco', 'puppy-bobar-san-francisco', 'cool-tea-bar-san-francisco-4', 'little-heaven-deli-san-francisco', 'good-earth-cafe-san-francisco-2', 'sweethut-san-francisco', 'teaone-san-francisco-5', 'fifty-fifty-coffee-and-tea-san-francisco', 'honey-creme-and-tea-san-francisco', 'bambu-san-francisco-3']\n"
     ]
    }
   ],
   "source": [
    "print(shops_to_visit)"
   ]
  },
  {
   "cell_type": "code",
   "execution_count": 84,
   "metadata": {},
   "outputs": [
    {
     "name": "stdout",
     "output_type": "stream",
     "text": [
      "      id                                        name  rating  \\\n",
      "49  50.0                   boba-guys-san-francisco-6     4.0   \n",
      "50  51.0                   boba-guys-san-francisco-4     4.0   \n",
      "51  52.0  wonderful-dessert-and-cafe-san-francisco-2     4.0   \n",
      "52  53.0               little-sweet-san-francisco-10     4.0   \n",
      "53  54.0                      teaspoon-san-francisco     4.0   \n",
      "54  55.0                  boba-guys-san-francisco-10     4.0   \n",
      "55  56.0                       i-tea-san-francisco-3     4.5   \n",
      "56  57.0                   boba-guys-san-francisco-7     4.0   \n",
      "57  58.0         plentea-san-francisco-san-francisco     3.5   \n",
      "58  59.0               steap-tea-bar-san-francisco-3     4.5   \n",
      "60  61.0                       omg-tea-san-francisco     4.5   \n",
      "61  62.0                asha-tea-house-san-francisco     4.0   \n",
      "63  64.0                  boba-guys-san-francisco-15     4.0   \n",
      "64  66.0                       steep-san-francisco-2     4.0   \n",
      "65  67.0                     mr-t-cafe-san-francisco     4.0   \n",
      "66  68.0                        tpumps-san-francisco     3.5   \n",
      "68  70.0                   wondertea-san-francisco-4     4.5   \n",
      "69  71.0               the-boba-shop-san-francisco-4     4.5   \n",
      "70  72.0        steep-creamery-and-tea-san-francisco     4.0   \n",
      "71  73.0                   bubblecup-san-francisco-2     3.5   \n",
      "72  74.0             sweet-a-little-san-francisco-12     4.5   \n",
      "73  75.0                     tea-hut-san-francisco-2     4.5   \n",
      "74  76.0                       i-tea-san-francisco-2     3.5   \n",
      "75  77.0                      tancca-san-francisco-3     4.5   \n",
      "76  78.0                    sharetea-san-francisco-3     3.5   \n",
      "77  79.0                        mi-tea-san-francisco     3.5   \n",
      "78  80.0              bb-tea-station-san-francisco-3     3.5   \n",
      "80  82.0                     keep-it-san-francisco-6     4.5   \n",
      "81  83.0          mr-and-mrs-tea-house-san-francisco     3.5   \n",
      "82  84.0                         e-tea-san-francisco     3.5   \n",
      "83  85.0                          gosu-san-francisco     3.5   \n",
      "84  86.0                homeplate-boba-san-francisco     4.0   \n",
      "85  87.0                         cuppa-san-francisco     3.5   \n",
      "86  89.0                   puppy-bobar-san-francisco     5.0   \n",
      "87  90.0                cool-tea-bar-san-francisco-4     3.5   \n",
      "88  91.0            little-heaven-deli-san-francisco     4.5   \n",
      "90  93.0             good-earth-cafe-san-francisco-2     4.5   \n",
      "91  94.0                      sweethut-san-francisco     3.5   \n",
      "93  96.0                      teaone-san-francisco-5     3.5   \n",
      "94  97.0    fifty-fifty-coffee-and-tea-san-francisco     4.0   \n",
      "95  98.0           honey-creme-and-tea-san-francisco     3.5   \n",
      "96  99.0                       bambu-san-francisco-3     4.0   \n",
      "\n",
      "               address                 city   latitude   longitude  \\\n",
      "49     429 Stockton St        San Francisco  37.789943  122.407306   \n",
      "50        3491 19th St        San Francisco  37.759940  122.421120   \n",
      "51      2035 Irving St        San Francisco  37.763325  122.479878   \n",
      "52     3836 Geary Blvd        San Francisco  37.781425  122.460802   \n",
      "53        2125 Polk St        San Francisco  37.796316  122.421976   \n",
      "54    1522 Fillmore St        San Francisco  37.783650  122.432470   \n",
      "55       253 Kearny St        San Francisco  37.790572  122.404304   \n",
      "56        8 Octavia St        San Francisco  37.772885  122.423546   \n",
      "57       341 Kearny St        San Francisco  37.791426  122.404249   \n",
      "58   827 Sacramento St        San Francisco  37.793260  122.406762   \n",
      "60  2891 San Bruno Ave        San Francisco  37.725464  122.402527   \n",
      "61        17 Kearny St        San Francisco  37.788189  122.403668   \n",
      "63        1002 16th St        San Francisco  37.766568  122.397056   \n",
      "64        240 Ritch St        San Francisco  37.780335  122.395783   \n",
      "65     4689 Mission St        San Francisco  37.723220  122.435560   \n",
      "66      1916 Irving St        San Francisco  37.763626  122.478592   \n",
      "68      2250 Irving St        San Francisco  37.763467  122.482387   \n",
      "69         2071 3rd St        San Francisco  37.763558  122.388577   \n",
      "70      270 Brannan St        San Francisco  37.782535  122.391180   \n",
      "71     1900 Clement St        San Francisco  37.782278  122.479696   \n",
      "72             unknown        San Francisco  37.774480  122.409160   \n",
      "73  2815 California St        San Francisco  37.787905  122.440762   \n",
      "74      2150 Irving St        San Francisco  37.763531  122.481133   \n",
      "75     5015 Geary Blvd        San Francisco  37.780421  122.473284   \n",
      "76          135 4th St        San Francisco  37.784464  122.403443   \n",
      "77       645 Irving St        San Francisco  37.763960  122.465019   \n",
      "78     1314 Noriega St        San Francisco  37.754293  122.477925   \n",
      "80      1170 Powell St        San Francisco  37.795559  122.409816   \n",
      "81         544 Clement        San Francisco  37.783044  122.465242   \n",
      "82     5344 Geary Blvd        San Francisco  37.780547  122.476978   \n",
      "83     1014 Clement St        San Francisco  37.782900  122.470170   \n",
      "84     131-155 King St        San Francisco  37.778707  122.390158   \n",
      "85     2810 Diamond St        San Francisco  37.734290  122.434170   \n",
      "86      1142 Grant Ave        San Francisco  37.797540  122.406790   \n",
      "87      103 Waverly Pl        San Francisco  37.794315  122.406927   \n",
      "88     2348 Mission St        San Francisco  37.759480  122.419430   \n",
      "90       835 Kearny St        San Francisco  37.795790  122.405370   \n",
      "91      519 Clement St        San Francisco  37.782888  122.464718   \n",
      "93     5336 Geary Blvd        San Francisco  37.780760  122.476790   \n",
      "94     3157 Geary Blvd        San Francisco  37.781429  122.452950   \n",
      "95       839 Irving St        San Francisco  37.763840  122.467080   \n",
      "96     6050 Geary Blvd        San Francisco  37.780400  122.484580   \n",
      "\n",
      "    corrected longitude  \n",
      "49          -122.407306  \n",
      "50          -122.421120  \n",
      "51          -122.479878  \n",
      "52          -122.460802  \n",
      "53          -122.421976  \n",
      "54          -122.432470  \n",
      "55          -122.404304  \n",
      "56          -122.423546  \n",
      "57          -122.404249  \n",
      "58          -122.406762  \n",
      "60          -122.402527  \n",
      "61          -122.403668  \n",
      "63          -122.397056  \n",
      "64          -122.395783  \n",
      "65          -122.435560  \n",
      "66          -122.478592  \n",
      "68          -122.482387  \n",
      "69          -122.388577  \n",
      "70          -122.391180  \n",
      "71          -122.479696  \n",
      "72          -122.409160  \n",
      "73          -122.440762  \n",
      "74          -122.481133  \n",
      "75          -122.473284  \n",
      "76          -122.403443  \n",
      "77          -122.465019  \n",
      "78          -122.477925  \n",
      "80          -122.409816  \n",
      "81          -122.465242  \n",
      "82          -122.476978  \n",
      "83          -122.470170  \n",
      "84          -122.390158  \n",
      "85          -122.434170  \n",
      "86          -122.406790  \n",
      "87          -122.406927  \n",
      "88          -122.419430  \n",
      "90          -122.405370  \n",
      "91          -122.464718  \n",
      "93          -122.476790  \n",
      "94          -122.452950  \n",
      "95          -122.467080  \n",
      "96          -122.484580  \n"
     ]
    }
   ],
   "source": [
    "full_info_for_visits = boba_data[boba_data[\"name\"].isin(shops_to_visit)]\n",
    "print(full_info_for_visits)"
   ]
  },
  {
   "cell_type": "markdown",
   "metadata": {},
   "source": [
    "OK, now I want to get a sense for how many shops fall into each category (rating) so I group the new \n",
    "data frame by their rating number. Because the ratings are discrete (3.5, 4, 4.5, 5), they should group \n",
    "easily. I will then apply the count function to tell me how many fall into each group."
   ]
  },
  {
   "cell_type": "code",
   "execution_count": 97,
   "metadata": {},
   "outputs": [
    {
     "name": "stdout",
     "output_type": "stream",
     "text": [
      "        id  name  address  city  latitude  longitude  corrected longitude\n",
      "rating                                                                   \n",
      "3.5     15    15       15    15        15         15                   15\n",
      "4.0     15    15       15    15        15         15                   15\n",
      "4.5     11    11       11    11        11         11                   11\n",
      "5.0      1     1        1     1         1          1                    1\n"
     ]
    }
   ],
   "source": [
    "print(full_info_for_visits.groupby(\"rating\").count())"
   ]
  },
  {
   "cell_type": "markdown",
   "metadata": {},
   "source": [
    "Great! That's going to let me focus in on the top 12 shops which have a 4.5 or 5 star rating. To help identify these, let's sort the \n",
    "dataframe in descending order by rating."
   ]
  },
  {
   "cell_type": "code",
   "execution_count": 85,
   "metadata": {},
   "outputs": [
    {
     "name": "stdout",
     "output_type": "stream",
     "text": [
      "      id                                        name  rating  \\\n",
      "86  89.0                   puppy-bobar-san-francisco     5.0   \n",
      "73  75.0                     tea-hut-san-francisco-2     4.5   \n",
      "68  70.0                   wondertea-san-francisco-4     4.5   \n",
      "90  93.0             good-earth-cafe-san-francisco-2     4.5   \n",
      "88  91.0            little-heaven-deli-san-francisco     4.5   \n",
      "55  56.0                       i-tea-san-francisco-3     4.5   \n",
      "80  82.0                     keep-it-san-francisco-6     4.5   \n",
      "58  59.0               steap-tea-bar-san-francisco-3     4.5   \n",
      "60  61.0                       omg-tea-san-francisco     4.5   \n",
      "75  77.0                      tancca-san-francisco-3     4.5   \n",
      "72  74.0             sweet-a-little-san-francisco-12     4.5   \n",
      "69  71.0               the-boba-shop-san-francisco-4     4.5   \n",
      "94  97.0    fifty-fifty-coffee-and-tea-san-francisco     4.0   \n",
      "84  86.0                homeplate-boba-san-francisco     4.0   \n",
      "50  51.0                   boba-guys-san-francisco-4     4.0   \n",
      "70  72.0        steep-creamery-and-tea-san-francisco     4.0   \n",
      "49  50.0                   boba-guys-san-francisco-6     4.0   \n",
      "96  99.0                       bambu-san-francisco-3     4.0   \n",
      "64  66.0                       steep-san-francisco-2     4.0   \n",
      "63  64.0                  boba-guys-san-francisco-15     4.0   \n",
      "51  52.0  wonderful-dessert-and-cafe-san-francisco-2     4.0   \n",
      "61  62.0                asha-tea-house-san-francisco     4.0   \n",
      "52  53.0               little-sweet-san-francisco-10     4.0   \n",
      "53  54.0                      teaspoon-san-francisco     4.0   \n",
      "65  67.0                     mr-t-cafe-san-francisco     4.0   \n",
      "54  55.0                  boba-guys-san-francisco-10     4.0   \n",
      "56  57.0                   boba-guys-san-francisco-7     4.0   \n",
      "85  87.0                         cuppa-san-francisco     3.5   \n",
      "95  98.0           honey-creme-and-tea-san-francisco     3.5   \n",
      "93  96.0                      teaone-san-francisco-5     3.5   \n",
      "91  94.0                      sweethut-san-francisco     3.5   \n",
      "87  90.0                cool-tea-bar-san-francisco-4     3.5   \n",
      "66  68.0                        tpumps-san-francisco     3.5   \n",
      "83  85.0                          gosu-san-francisco     3.5   \n",
      "81  83.0          mr-and-mrs-tea-house-san-francisco     3.5   \n",
      "57  58.0         plentea-san-francisco-san-francisco     3.5   \n",
      "78  80.0              bb-tea-station-san-francisco-3     3.5   \n",
      "77  79.0                        mi-tea-san-francisco     3.5   \n",
      "76  78.0                    sharetea-san-francisco-3     3.5   \n",
      "74  76.0                       i-tea-san-francisco-2     3.5   \n",
      "71  73.0                   bubblecup-san-francisco-2     3.5   \n",
      "82  84.0                         e-tea-san-francisco     3.5   \n",
      "\n",
      "               address                 city   latitude   longitude  \\\n",
      "86      1142 Grant Ave        San Francisco  37.797540  122.406790   \n",
      "73  2815 California St        San Francisco  37.787905  122.440762   \n",
      "68      2250 Irving St        San Francisco  37.763467  122.482387   \n",
      "90       835 Kearny St        San Francisco  37.795790  122.405370   \n",
      "88     2348 Mission St        San Francisco  37.759480  122.419430   \n",
      "55       253 Kearny St        San Francisco  37.790572  122.404304   \n",
      "80      1170 Powell St        San Francisco  37.795559  122.409816   \n",
      "58   827 Sacramento St        San Francisco  37.793260  122.406762   \n",
      "60  2891 San Bruno Ave        San Francisco  37.725464  122.402527   \n",
      "75     5015 Geary Blvd        San Francisco  37.780421  122.473284   \n",
      "72             unknown        San Francisco  37.774480  122.409160   \n",
      "69         2071 3rd St        San Francisco  37.763558  122.388577   \n",
      "94     3157 Geary Blvd        San Francisco  37.781429  122.452950   \n",
      "84     131-155 King St        San Francisco  37.778707  122.390158   \n",
      "50        3491 19th St        San Francisco  37.759940  122.421120   \n",
      "70      270 Brannan St        San Francisco  37.782535  122.391180   \n",
      "49     429 Stockton St        San Francisco  37.789943  122.407306   \n",
      "96     6050 Geary Blvd        San Francisco  37.780400  122.484580   \n",
      "64        240 Ritch St        San Francisco  37.780335  122.395783   \n",
      "63        1002 16th St        San Francisco  37.766568  122.397056   \n",
      "51      2035 Irving St        San Francisco  37.763325  122.479878   \n",
      "61        17 Kearny St        San Francisco  37.788189  122.403668   \n",
      "52     3836 Geary Blvd        San Francisco  37.781425  122.460802   \n",
      "53        2125 Polk St        San Francisco  37.796316  122.421976   \n",
      "65     4689 Mission St        San Francisco  37.723220  122.435560   \n",
      "54    1522 Fillmore St        San Francisco  37.783650  122.432470   \n",
      "56        8 Octavia St        San Francisco  37.772885  122.423546   \n",
      "85     2810 Diamond St        San Francisco  37.734290  122.434170   \n",
      "95       839 Irving St        San Francisco  37.763840  122.467080   \n",
      "93     5336 Geary Blvd        San Francisco  37.780760  122.476790   \n",
      "91      519 Clement St        San Francisco  37.782888  122.464718   \n",
      "87      103 Waverly Pl        San Francisco  37.794315  122.406927   \n",
      "66      1916 Irving St        San Francisco  37.763626  122.478592   \n",
      "83     1014 Clement St        San Francisco  37.782900  122.470170   \n",
      "81         544 Clement        San Francisco  37.783044  122.465242   \n",
      "57       341 Kearny St        San Francisco  37.791426  122.404249   \n",
      "78     1314 Noriega St        San Francisco  37.754293  122.477925   \n",
      "77       645 Irving St        San Francisco  37.763960  122.465019   \n",
      "76          135 4th St        San Francisco  37.784464  122.403443   \n",
      "74      2150 Irving St        San Francisco  37.763531  122.481133   \n",
      "71     1900 Clement St        San Francisco  37.782278  122.479696   \n",
      "82     5344 Geary Blvd        San Francisco  37.780547  122.476978   \n",
      "\n",
      "    corrected longitude  \n",
      "86          -122.406790  \n",
      "73          -122.440762  \n",
      "68          -122.482387  \n",
      "90          -122.405370  \n",
      "88          -122.419430  \n",
      "55          -122.404304  \n",
      "80          -122.409816  \n",
      "58          -122.406762  \n",
      "60          -122.402527  \n",
      "75          -122.473284  \n",
      "72          -122.409160  \n",
      "69          -122.388577  \n",
      "94          -122.452950  \n",
      "84          -122.390158  \n",
      "50          -122.421120  \n",
      "70          -122.391180  \n",
      "49          -122.407306  \n",
      "96          -122.484580  \n",
      "64          -122.395783  \n",
      "63          -122.397056  \n",
      "51          -122.479878  \n",
      "61          -122.403668  \n",
      "52          -122.460802  \n",
      "53          -122.421976  \n",
      "65          -122.435560  \n",
      "54          -122.432470  \n",
      "56          -122.423546  \n",
      "85          -122.434170  \n",
      "95          -122.467080  \n",
      "93          -122.476790  \n",
      "91          -122.464718  \n",
      "87          -122.406927  \n",
      "66          -122.478592  \n",
      "83          -122.470170  \n",
      "81          -122.465242  \n",
      "57          -122.404249  \n",
      "78          -122.477925  \n",
      "77          -122.465019  \n",
      "76          -122.403443  \n",
      "74          -122.481133  \n",
      "71          -122.479696  \n",
      "82          -122.476978  \n"
     ]
    }
   ],
   "source": [
    "full_info_for_visits = full_info_for_visits.sort_values(\"rating\", ascending=False)\n",
    "print(full_info_for_visits)"
   ]
  }
 ],
 "metadata": {
  "interpreter": {
   "hash": "f96c3a179d1851100ae5f232c30bf4bb6307bf2f33303fb83516114f1bcd2a36"
  },
  "kernelspec": {
   "display_name": "Python 3.9.1 64-bit",
   "language": "python",
   "name": "python3"
  },
  "language_info": {
   "codemirror_mode": {
    "name": "ipython",
    "version": 3
   },
   "file_extension": ".py",
   "mimetype": "text/x-python",
   "name": "python",
   "nbconvert_exporter": "python",
   "pygments_lexer": "ipython3",
   "version": "3.8.5"
  },
  "orig_nbformat": 4
 },
 "nbformat": 4,
 "nbformat_minor": 2
}
